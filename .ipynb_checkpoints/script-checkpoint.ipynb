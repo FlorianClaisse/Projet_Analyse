{
 "cells": [
  {
   "cell_type": "code",
   "execution_count": null,
   "metadata": {},
   "outputs": [],
   "source": [
    "import pandas as pd\n",
    "import rpy2.robjects as ro\n",
    "from rpy2.robjects import pandas2ri\n",
    "pandas2ri.activate()"
   ]
  },
  {
   "cell_type": "code",
   "execution_count": null,
   "metadata": {},
   "outputs": [],
   "source": [
    "TRAIN_PATH = \"./data/spam_data_train.rda\"\n",
    "TEST_PATH = \"./data/spam_data_test.rda\""
   ]
  },
  {
   "cell_type": "code",
   "execution_count": 6,
   "metadata": {},
   "outputs": [
    {
     "data": {
      "text/plain": [
       "array(['data_test'], dtype='<U9')"
      ]
     },
     "execution_count": 6,
     "metadata": {},
     "output_type": "execute_result"
    }
   ],
   "source": [
    "ro.r[\"load\"](TRAIN_PATH)\n",
    "ro.r[\"load\"](TEST_PATH)"
   ]
  },
  {
   "cell_type": "code",
   "execution_count": 13,
   "metadata": {},
   "outputs": [
    {
     "data": {
      "text/plain": [
       "array(['word_freq_make', 'word_freq_address', 'word_freq_all',\n",
       "       'word_freq_3d', 'word_freq_our', 'word_freq_over',\n",
       "       'word_freq_remove', 'word_freq_internet', 'word_freq_order',\n",
       "       'word_freq_mail', 'word_freq_receive', 'word_freq_will',\n",
       "       'word_freq_people', 'word_freq_report', 'word_freq_addresses',\n",
       "       'word_freq_free', 'word_freq_business', 'word_freq_email',\n",
       "       'word_freq_you', 'word_freq_credit', 'word_freq_your',\n",
       "       'word_freq_font', 'word_freq_000', 'word_freq_money',\n",
       "       'word_freq_hp', 'word_freq_hpl', 'word_freq_george',\n",
       "       'word_freq_650', 'word_freq_lab', 'word_freq_labs',\n",
       "       'word_freq_telnet', 'word_freq_857', 'word_freq_data',\n",
       "       'word_freq_415', 'word_freq_85', 'word_freq_technology',\n",
       "       'word_freq_1999', 'word_freq_parts', 'word_freq_pm',\n",
       "       'word_freq_direct', 'word_freq_cs', 'word_freq_meeting',\n",
       "       'word_freq_original', 'word_freq_project', 'word_freq_re',\n",
       "       'word_freq_edu', 'word_freq_table', 'word_freq_conference',\n",
       "       'char_freq_;', 'char_freq_(', 'char_freq_[', 'char_freq_!',\n",
       "       'char_freq_$', 'char_freq_', 'capital_run_length_average',\n",
       "       'capital_run_length_longest', 'capital_run_length_total', 'label'],\n",
       "      dtype='<U26')"
      ]
     },
     "execution_count": 13,
     "metadata": {},
     "output_type": "execute_result"
    }
   ],
   "source": [
    "train_data = ro.r[\"data_train\"]\n",
    "test_data = ro.r[\"data_test\"]\n",
    "\n",
    "train_df = pandas2ri.rpy2py(train_data)\n",
    "test_df = pandas2ri.rpy2py(test_data)\n",
    "\n",
    "num_columns = train_df.shape[1]\n",
    "num_columns\n",
    "train_data.colnames\n"
   ]
  }
 ],
 "metadata": {
  "kernelspec": {
   "display_name": ".venv",
   "language": "python",
   "name": "python3"
  },
  "language_info": {
   "codemirror_mode": {
    "name": "ipython",
    "version": 3
   },
   "file_extension": ".py",
   "mimetype": "text/x-python",
   "name": "python",
   "nbconvert_exporter": "python",
   "pygments_lexer": "ipython3",
   "version": "3.13.0"
  }
 },
 "nbformat": 4,
 "nbformat_minor": 2
}
