{
 "cells": [
  {
   "cell_type": "code",
   "execution_count": null,
   "metadata": {},
   "outputs": [],
   "source": [
    "import pandas as pd\n",
    "import rpy2.robjects as ro\n",
    "from rpy2.robjects import pandas2ri\n",
    "pandas2ri.activate()"
   ]
  },
  {
   "cell_type": "code",
   "execution_count": null,
   "metadata": {},
   "outputs": [],
   "source": [
    "TRAIN_PATH = \"./data/spam_data_train.rda\"\n",
    "TEST_PATH = \"./data/spam_data_test.rda\""
   ]
  },
  {
   "cell_type": "code",
   "execution_count": 6,
   "metadata": {},
   "outputs": [
    {
     "data": {
      "text/plain": [
       "array(['data_test'], dtype='<U9')"
      ]
     },
     "execution_count": 6,
     "metadata": {},
     "output_type": "execute_result"
    }
   ],
   "source": [
    "ro.r[\"load\"](TRAIN_PATH)\n",
    "ro.r[\"load\"](TEST_PATH)"
   ]
  },
  {
   "cell_type": "code",
   "execution_count": null,
   "metadata": {},
   "outputs": [
    {
     "name": "stdout",
     "output_type": "stream",
     "text": [
      "      word_freq_make  word_freq_address  word_freq_all  word_freq_3d  \\\n",
      "455              0.0                0.0           0.89           0.0   \n",
      "2246             0.0                0.0           0.00           0.0   \n",
      "1935             0.0                0.0           0.00           0.0   \n",
      "1384             0.0                0.0           0.00           0.0   \n",
      "679              0.1                0.1           0.70           0.0   \n",
      "\n",
      "      word_freq_our  word_freq_over  word_freq_remove  word_freq_internet  \\\n",
      "455            1.79            0.44              0.00                0.00   \n",
      "2246           0.00            0.00              0.00                0.00   \n",
      "1935           0.00            0.00              0.00                0.00   \n",
      "1384           1.82            0.36              0.36                0.72   \n",
      "679            0.60            0.20              0.40                0.10   \n",
      "\n",
      "      word_freq_order  word_freq_mail  ...  char_freq_;  char_freq_(  \\\n",
      "455              0.00            0.00  ...          0.0        0.073   \n",
      "2246             0.00            0.00  ...          0.0        0.000   \n",
      "1935             0.00            0.00  ...          0.0        0.377   \n",
      "1384             0.36            0.36  ...          0.0        0.297   \n",
      "679              1.41            0.80  ...          0.0        0.000   \n",
      "\n",
      "      char_freq_[  char_freq_!  char_freq_$  char_freq_  \\\n",
      "455         0.000        0.000         0.00       0.000   \n",
      "2246        0.000        0.277         0.00       0.000   \n",
      "1935        0.000        0.125         0.00       0.000   \n",
      "1384        0.059        0.178         0.00       0.000   \n",
      "679         0.260        0.991         0.39       0.032   \n",
      "\n",
      "      capital_run_length_average  capital_run_length_longest  \\\n",
      "455                        2.250                          12   \n",
      "2246                       3.000                          17   \n",
      "1935                       2.925                          27   \n",
      "1384                       2.446                          11   \n",
      "679                        3.173                          56   \n",
      "\n",
      "      capital_run_length_total  label  \n",
      "455                        144      1  \n",
      "2246                        51      0  \n",
      "1935                       158      0  \n",
      "1384                       115      1  \n",
      "679                       1044      1  \n",
      "\n",
      "[5 rows x 58 columns]\n"
     ]
    }
   ],
   "source": [
    "train_data = ro.r[\"data_train\"]\n",
    "test_data = ro.r[\"data_test\"]\n",
    "\n",
    "train_df = pandas2ri.rpy2py(train_data)\n",
    "test_df = pandas2ri.rpy2py(test_data)\n"
   ]
  }
 ],
 "metadata": {
  "kernelspec": {
   "display_name": ".venv",
   "language": "python",
   "name": "python3"
  },
  "language_info": {
   "codemirror_mode": {
    "name": "ipython",
    "version": 3
   },
   "file_extension": ".py",
   "mimetype": "text/x-python",
   "name": "python",
   "nbconvert_exporter": "python",
   "pygments_lexer": "ipython3",
   "version": "3.13.0"
  }
 },
 "nbformat": 4,
 "nbformat_minor": 2
}
