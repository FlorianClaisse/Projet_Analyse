{
 "cells": [
  {
   "cell_type": "code",
   "execution_count": 32,
   "metadata": {},
   "outputs": [],
   "source": [
    "import pandas as pd\n",
    "import rpy2.robjects as ro\n",
    "from rpy2.robjects import pandas2ri\n",
    "pandas2ri.activate()"
   ]
  },
  {
   "cell_type": "code",
   "execution_count": 33,
   "metadata": {},
   "outputs": [],
   "source": [
    "TRAIN_PATH = \"./data/spam_data_train.rda\"\n",
    "TEST_PATH = \"./data/spam_data_test.rda\""
   ]
  },
  {
   "cell_type": "code",
   "execution_count": 34,
   "metadata": {},
   "outputs": [
    {
     "data": {
      "text/plain": [
       "array(['data_test'], dtype='<U9')"
      ]
     },
     "execution_count": 34,
     "metadata": {},
     "output_type": "execute_result"
    }
   ],
   "source": [
    "ro.r[\"load\"](TRAIN_PATH)\n",
    "ro.r[\"load\"](TEST_PATH)"
   ]
  },
  {
   "cell_type": "code",
   "execution_count": null,
   "metadata": {},
   "outputs": [
    {
     "name": "stdout",
     "output_type": "stream",
     "text": [
      "#############################################\n",
      "     word_freq_make word_freq_address word_freq_all word_freq_3d word_freq_our\n",
      "2961           0.00              0.00          0.00         0.00          0.00\n",
      "2515           0.00              0.00          0.00         0.00          0.00\n",
      "3246           0.00              0.00          0.00         0.00          0.00\n",
      "1117           0.58              0.00          0.00        35.46          0.58\n",
      "2340           0.69              0.00          0.69         0.00          0.00\n",
      "1593           0.77              0.38          0.77         0.00          0.00\n",
      "     word_freq_over word_freq_remove word_freq_internet word_freq_order\n",
      "2961           0.00             0.00               0.00            0.00\n",
      "2515           0.00             0.00               0.00            0.00\n",
      "3246           0.00             0.00               0.00            0.00\n",
      "1117           0.00             0.58               0.58            0.00\n",
      "2340           0.00             0.00               0.00            0.00\n",
      "1593           0.57             0.00               0.57            1.15\n",
      "     word_freq_mail word_freq_receive word_freq_will word_freq_people\n",
      "2961           0.00                 0           0.00             0.00\n",
      "2515           0.00                 0           0.00             0.00\n",
      "3246           0.00                 0           0.00             0.00\n",
      "1117           0.00                 0           0.00             0.00\n",
      "2340           0.69                 0           0.00             0.00\n",
      "1593           1.34                 0           0.38             0.38\n",
      "     word_freq_report word_freq_addresses word_freq_free word_freq_business\n",
      "2961             0.00                0.00           0.00               0.00\n",
      "2515             0.00                0.00           0.00               0.00\n",
      "3246             0.00                0.00           0.00               0.00\n",
      "1117             0.58                0.00           0.58               0.58\n",
      "2340             0.00                0.00           1.38               0.00\n",
      "1593             0.00                1.15           0.19               0.19\n",
      "     word_freq_email word_freq_you word_freq_credit word_freq_your\n",
      "2961            0.00          0.00             0.00           0.00\n",
      "2515            0.00          3.12             0.00           0.00\n",
      "3246            0.00          0.00             0.00           0.00\n",
      "1117            0.58          0.58             0.00           1.74\n",
      "2340            0.00          1.38             0.00           1.38\n",
      "1593            1.92          2.11             1.15           1.15\n",
      "     word_freq_font word_freq_000 word_freq_money word_freq_hp word_freq_hpl\n",
      "2961              0          0.00            0.00         0.00          0.00\n",
      "2515              0          0.00            0.00         0.00          0.00\n",
      "3246              0          0.00            0.00         9.52          4.76\n",
      "1117              0          0.00            1.16         0.00          0.00\n",
      "2340              0          0.00            0.00         0.00          0.00\n",
      "1593              0          1.34            0.77         0.00          0.00\n",
      "     word_freq_george word_freq_650 word_freq_lab word_freq_labs\n",
      "2961             0.00          0.00          0.00           0.00\n",
      "2515             3.12          0.00          0.00           0.00\n",
      "3246             4.76          4.76          4.76           4.76\n",
      "1117             0.00          0.00          0.00           0.00\n",
      "2340             0.00          0.00          0.00           0.00\n",
      "1593             0.00          0.00          0.00           0.00\n",
      "     word_freq_telnet word_freq_857 word_freq_data word_freq_415 word_freq_85\n",
      "2961             0.00          0.00              0          0.00         0.00\n",
      "2515             0.00          0.00              0          0.00         0.00\n",
      "3246             4.76          4.76              0          4.76         4.76\n",
      "1117             0.00          0.00              0          0.00         0.00\n",
      "2340             0.00          0.00              0          0.00         0.00\n",
      "1593             0.00          0.00              0          0.00         0.19\n",
      "     word_freq_technology word_freq_1999 word_freq_parts word_freq_pm\n",
      "2961                 0.00              0               0            0\n",
      "2515                 0.00              0               0            0\n",
      "3246                 4.76              0               0            0\n",
      "1117                 0.00              0               0            0\n",
      "2340                 0.00              0               0            0\n",
      "1593                 0.00              0               0            0\n",
      "     word_freq_direct word_freq_cs word_freq_meeting word_freq_original\n",
      "2961             0.00            0                 0                  0\n",
      "2515             0.00            0                 0                  0\n",
      "3246             4.76            0                 0                  0\n",
      "1117             0.00            0                 0                  0\n",
      "2340             0.00            0                 0                  0\n",
      "1593             0.00            0                 0                  0\n",
      "     word_freq_project word_freq_re word_freq_edu word_freq_table\n",
      "2961                 0            0             0               0\n",
      "2515                 0            0             0               0\n",
      "3246                 0            0             0               0\n",
      "1117                 0            0             0               0\n",
      "2340                 0            0             0               0\n",
      "1593                 0            0             0               0\n",
      "     word_freq_conference char_freq_; char_freq_( char_freq_[ char_freq_!\n",
      "2961                    0       0.000       0.555           0       0.000\n",
      "2515                    0       0.000       0.502           0       0.000\n",
      "3246                    0       0.000       1.257           0       0.000\n",
      "1117                    0       0.000       0.000           0       0.239\n",
      "2340                    0       0.000       0.000           0       2.378\n",
      "1593                    0       0.027       0.027           0       0.438\n",
      "     char_freq_$ char_freq_ capital_run_length_average\n",
      "2961       0.000      0.000                      1.647\n",
      "2515       0.000      0.000                      1.000\n",
      "3246       0.000      0.000                      3.333\n",
      "1117       0.239      0.000                      3.338\n",
      "2340       0.000      0.000                      3.315\n",
      "1593       0.191      0.054                     14.619\n",
      "     capital_run_length_longest capital_run_length_total\n",
      "2961                          4                       28\n",
      "2515                          1                        8\n",
      "3246                         11                       30\n",
      "1117                        123                      207\n",
      "2340                         37                      126\n",
      "1593                        525                      921\n",
      "\n"
     ]
    }
   ],
   "source": [
    "train_data = ro.r[\"data_train\"]\n",
    "test_data = ro.r[\"data_test\"]\n",
    "\n",
    "train_df = pandas2ri.rpy2py(train_data)\n",
    "test_df = pandas2ri.rpy2py(test_data)\n",
    "print(train_data.head())\n",
    "print(test_data.head())\n"
   ]
  },
  {
   "cell_type": "markdown",
   "metadata": {},
   "source": [
    "## 2. ACP"
   ]
  },
  {
   "cell_type": "code",
   "execution_count": null,
   "metadata": {},
   "outputs": [
    {
     "ename": "NameError",
     "evalue": "name 'train_df' is not defined",
     "output_type": "error",
     "traceback": [
      "\u001b[0;31m---------------------------------------------------------------------------\u001b[0m",
      "\u001b[0;31mNameError\u001b[0m                                 Traceback (most recent call last)",
      "Cell \u001b[0;32mIn[1], line 3\u001b[0m\n\u001b[1;32m      1\u001b[0m \u001b[38;5;28;01mimport\u001b[39;00m \u001b[38;5;21;01mnumpy\u001b[39;00m \u001b[38;5;28;01mas\u001b[39;00m \u001b[38;5;21;01mnp\u001b[39;00m\n\u001b[1;32m      2\u001b[0m \u001b[38;5;28;01mimport\u001b[39;00m \u001b[38;5;21;01mmatplotlib\u001b[39;00m\u001b[38;5;21;01m.\u001b[39;00m\u001b[38;5;21;01mpyplot\u001b[39;00m \u001b[38;5;28;01mas\u001b[39;00m \u001b[38;5;21;01mplt\u001b[39;00m\n\u001b[0;32m----> 3\u001b[0m Z \u001b[38;5;241m=\u001b[39m \u001b[43mtrain_df\u001b[49m \u001b[38;5;241m-\u001b[39m np\u001b[38;5;241m.\u001b[39mmean(train_df)\n\u001b[1;32m      4\u001b[0m S \u001b[38;5;241m=\u001b[39m np\u001b[38;5;241m.\u001b[39mcov(Z, rowvar\u001b[38;5;241m=\u001b[39m\u001b[38;5;28;01mFalse\u001b[39;00m)\n\u001b[1;32m      5\u001b[0m ls, vs \u001b[38;5;241m=\u001b[39m np\u001b[38;5;241m.\u001b[39mlinalg\u001b[38;5;241m.\u001b[39meig(S)\n",
      "\u001b[0;31mNameError\u001b[0m: name 'train_df' is not defined"
     ]
    }
   ],
   "source": [
    "import numpy as np\n",
    "import matplotlib.pyplot as plt\n",
    "Z = train_df - np.mean(train_df)\n",
    "S = np.cov(Z, rowvar=False)\n",
    "ls, vs = np.linalg.eig(S)\n",
    "idx = np.argsort(ls)[::-1]\n",
    "ls_tries = ls[idx]\n",
    "vs_tries = vs[:, idx]\n",
    "print(f'pourcentage de variance gardée : {ls_tries[0]/np.sum(ls_tries)}')\n",
    "Z_new = np.dot(vs_tries[0], Z.T)\n",
    "plt.grid()\n",
    "plt.scatter(Z[:,0], Z[:,1])\n",
    "plt.savefig(\"ACP.png\")"
   ]
  },
  {
   "cell_type": "markdown",
   "metadata": {},
   "source": [
    "## 3. Entraînement des modèles"
   ]
  },
  {
   "cell_type": "code",
   "execution_count": 39,
   "metadata": {},
   "outputs": [
    {
     "ename": "AttributeError",
     "evalue": "'DataFrame' object has no attribute 'drop'",
     "output_type": "error",
     "traceback": [
      "\u001b[0;31m---------------------------------------------------------------------------\u001b[0m",
      "\u001b[0;31mAttributeError\u001b[0m                            Traceback (most recent call last)",
      "Cell \u001b[0;32mIn[39], line 2\u001b[0m\n\u001b[1;32m      1\u001b[0m \u001b[38;5;66;03m# Séparation des caractéristiques et des étiquettes\u001b[39;00m\n\u001b[0;32m----> 2\u001b[0m X_train \u001b[38;5;241m=\u001b[39m \u001b[43mtrain_data\u001b[49m\u001b[38;5;241;43m.\u001b[39;49m\u001b[43mdrop\u001b[49m(\u001b[38;5;124m'\u001b[39m\u001b[38;5;124mlabel\u001b[39m\u001b[38;5;124m'\u001b[39m, axis\u001b[38;5;241m=\u001b[39m\u001b[38;5;241m1\u001b[39m)\n\u001b[1;32m      3\u001b[0m y_train \u001b[38;5;241m=\u001b[39m train_data[\u001b[38;5;124m'\u001b[39m\u001b[38;5;124mlabel\u001b[39m\u001b[38;5;124m'\u001b[39m]\n\u001b[1;32m      4\u001b[0m X_test \u001b[38;5;241m=\u001b[39m test_data\u001b[38;5;241m.\u001b[39mdrop(\u001b[38;5;124m'\u001b[39m\u001b[38;5;124mlabel\u001b[39m\u001b[38;5;124m'\u001b[39m, axis\u001b[38;5;241m=\u001b[39m\u001b[38;5;241m1\u001b[39m)\n",
      "\u001b[0;31mAttributeError\u001b[0m: 'DataFrame' object has no attribute 'drop'"
     ]
    }
   ],
   "source": [
    "# Séparation des caractéristiques et des étiquettes\n",
    "X_train = train_data.drop('label', axis=1)\n",
    "y_train = train_data['label']\n",
    "X_test = test_data.drop('label', axis=1)\n",
    "y_test = test_data['label']\n"
   ]
  },
  {
   "cell_type": "markdown",
   "metadata": {},
   "source": [
    "### 3.1 Naive Bayes"
   ]
  },
  {
   "cell_type": "code",
   "execution_count": 38,
   "metadata": {},
   "outputs": [
    {
     "ename": "NameError",
     "evalue": "name 'X_train' is not defined",
     "output_type": "error",
     "traceback": [
      "\u001b[0;31m---------------------------------------------------------------------------\u001b[0m",
      "\u001b[0;31mNameError\u001b[0m                                 Traceback (most recent call last)",
      "Cell \u001b[0;32mIn[38], line 5\u001b[0m\n\u001b[1;32m      3\u001b[0m \u001b[38;5;66;03m# Instancier et entraîner le classificateur Naive Bayes\u001b[39;00m\n\u001b[1;32m      4\u001b[0m nb_classifier \u001b[38;5;241m=\u001b[39m NaiveBayes()\n\u001b[0;32m----> 5\u001b[0m nb_classifier\u001b[38;5;241m.\u001b[39mfit(\u001b[43mX_train\u001b[49m, y_train)\n\u001b[1;32m      7\u001b[0m \u001b[38;5;66;03m# Prédire les étiquettes sur l'ensemble de test\u001b[39;00m\n\u001b[1;32m      8\u001b[0m nb_predictions \u001b[38;5;241m=\u001b[39m nb_classifier\u001b[38;5;241m.\u001b[39mpredict(X_test)\n",
      "\u001b[0;31mNameError\u001b[0m: name 'X_train' is not defined"
     ]
    }
   ],
   "source": [
    "from Naive_Bayes import NaiveBayes\n",
    "\n",
    "# Instancier et entraîner le classificateur Naive Bayes\n",
    "nb_classifier = NaiveBayes()\n",
    "nb_classifier.fit(X_train, y_train)\n",
    "\n",
    "# Prédire les étiquettes sur l'ensemble de test\n",
    "nb_predictions = nb_classifier.predict(X_test)\n",
    "\n",
    "# Calculer l'exactitude\n",
    "nb_accuracy = nb_classifier.accuracy(y_test, nb_predictions)\n",
    "print(f\"L'exactitude du modèle est de {nb_accuracy * 100:.2f}%\")"
   ]
  },
  {
   "cell_type": "markdown",
   "metadata": {},
   "source": [
    "### 3.2 Régression logistique"
   ]
  },
  {
   "cell_type": "code",
   "execution_count": null,
   "metadata": {},
   "outputs": [],
   "source": [
    "from LogisticRegression import LogisticRegression\n",
    "\n",
    "# Instancier et entraîner le classificateur de régression logistique\n",
    "lr_classifier = LogisticRegression()\n",
    "lr_classifier.fit(X_train.values, y_train.values)\n",
    "\n",
    "# Prédire les étiquettes sur l'ensemble de test\n",
    "lr_predictions = lr_classifier.predict(X_test.values)\n",
    "\n",
    "# Calculer l'exactitude\n",
    "lr_accuracy = lr_classifier.accuracy(y_test.values, lr_predictions)\n",
    "print(f\"L'exactitude du modèle est de {lr_accuracy * 100:.2f}%\")"
   ]
  }
 ],
 "metadata": {
  "kernelspec": {
   "display_name": ".venv",
   "language": "python",
   "name": "python3"
  },
  "language_info": {
   "codemirror_mode": {
    "name": "ipython",
    "version": 3
   },
   "file_extension": ".py",
   "mimetype": "text/x-python",
   "name": "python",
   "nbconvert_exporter": "python",
   "pygments_lexer": "ipython3",
   "version": "3.9.6"
  }
 },
 "nbformat": 4,
 "nbformat_minor": 2
}
