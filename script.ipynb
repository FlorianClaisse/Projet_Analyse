{
 "cells": [
  {
   "cell_type": "code",
   "execution_count": 12,
   "metadata": {},
   "outputs": [],
   "source": [
    "import pandas as pd\n",
    "import rpy2.robjects as ro\n",
    "from rpy2.robjects import pandas2ri\n",
    "pandas2ri.activate()"
   ]
  },
  {
   "cell_type": "code",
   "execution_count": 13,
   "metadata": {},
   "outputs": [],
   "source": [
    "TRAIN_PATH = \"./data/spam_data_train.rda\"\n",
    "TEST_PATH = \"./data/spam_data_test.rda\""
   ]
  },
  {
   "cell_type": "code",
   "execution_count": 14,
   "metadata": {},
   "outputs": [
    {
     "data": {
      "text/plain": [
       "array(['data_test'], dtype='<U9')"
      ]
     },
     "execution_count": 14,
     "metadata": {},
     "output_type": "execute_result"
    }
   ],
   "source": [
    "ro.r[\"load\"](TRAIN_PATH)\n",
    "ro.r[\"load\"](TEST_PATH)"
   ]
  },
  {
   "cell_type": "code",
   "execution_count": 15,
   "metadata": {},
   "outputs": [
    {
     "name": "stdout",
     "output_type": "stream",
     "text": [
      "     word_freq_make word_freq_address word_freq_all word_freq_3d word_freq_our\n",
      "455             0.0               0.0          0.89            0          1.79\n",
      "2246            0.0               0.0          0.00            0          0.00\n",
      "1935            0.0               0.0          0.00            0          0.00\n",
      "1384            0.0               0.0          0.00            0          1.82\n",
      "679             0.1               0.1          0.70            0          0.60\n",
      "4129            0.0               0.0          0.00            0          0.00\n",
      "     word_freq_over word_freq_remove word_freq_internet word_freq_order\n",
      "455            0.44             0.00               0.00            0.00\n",
      "2246           0.00             0.00               0.00            0.00\n",
      "1935           0.00             0.00               0.00            0.00\n",
      "1384           0.36             0.36               0.72            0.36\n",
      "679            0.20             0.40               0.10            1.41\n",
      "4129           0.00             0.00               0.00            0.00\n",
      "     word_freq_mail word_freq_receive word_freq_will word_freq_people\n",
      "455            0.00               0.0           0.44                0\n",
      "2246           0.00               0.0           0.00                0\n",
      "1935           0.00               0.0           0.00                0\n",
      "1384           0.36               0.0           0.00                0\n",
      "679            0.80               0.1           0.50                0\n",
      "4129           0.00               0.0           0.00                0\n",
      "     word_freq_report word_freq_addresses word_freq_free word_freq_business\n",
      "455                 0                   0           1.34                  0\n",
      "2246                0                   0           0.00                  0\n",
      "1935                0                   0           0.00                  0\n",
      "1384                0                   0           0.00                  0\n",
      "679                 0                   0           0.10                  0\n",
      "4129                0                   0           0.00                  0\n",
      "     word_freq_email word_freq_you word_freq_credit word_freq_your\n",
      "455             0.00          2.24              0.0           4.48\n",
      "2246            0.00          1.88              0.0           0.00\n",
      "1935            0.00          0.00              0.0           0.00\n",
      "1384            0.36          2.91              0.0           2.18\n",
      "679             1.11          2.22              0.4           1.92\n",
      "4129            0.00          5.81              0.0           1.16\n",
      "     word_freq_font word_freq_000 word_freq_money word_freq_hp word_freq_hpl\n",
      "455               0          0.00            0.00            0             0\n",
      "2246              0          0.00            0.00            0             0\n",
      "1935              0          0.00            0.00            0             0\n",
      "1384              0          0.72            0.00            0             0\n",
      "679               0          0.00            0.30            0             0\n",
      "4129              0          0.00            1.16            0             0\n",
      "     word_freq_george word_freq_650 word_freq_lab word_freq_labs\n",
      "455                 0             0             0              0\n",
      "2246                0             0             0              0\n",
      "1935                0             0             0              0\n",
      "1384                0             0             0              0\n",
      "679                 0             0             0              0\n",
      "4129                0             0             0              0\n",
      "     word_freq_telnet word_freq_857 word_freq_data word_freq_415 word_freq_85\n",
      "455                 0             0              0             0         0.00\n",
      "2246                0             0              0             0         1.88\n",
      "1935                0             0              0             0         0.00\n",
      "1384                0             0              0             0         0.00\n",
      "679                 0             0              0             0         0.10\n",
      "4129                0             0              0             0         0.00\n",
      "     word_freq_technology word_freq_1999 word_freq_parts word_freq_pm\n",
      "455                     0           0.00               0         0.00\n",
      "2246                    0           0.00               0         0.00\n",
      "1935                    0           1.96               0         1.96\n",
      "1384                    0           0.00               0         0.00\n",
      "679                     0           0.00               0         0.10\n",
      "4129                    0           0.00               0         0.00\n",
      "     word_freq_direct word_freq_cs word_freq_meeting word_freq_original\n",
      "455                 0            0              0.00               0.00\n",
      "2246                0            0              1.88               0.00\n",
      "1935                0            0              0.00               0.98\n",
      "1384                0            0              0.00               0.36\n",
      "679                 0            0              0.00               0.00\n",
      "4129                0            0              0.00               0.00\n",
      "     word_freq_project word_freq_re word_freq_edu word_freq_table\n",
      "455               0.00            0          0.00               0\n",
      "2246              0.00            0          0.00               0\n",
      "1935              0.00            0          0.00               0\n",
      "1384              0.36            0          0.00               0\n",
      "679               0.00            0          0.00               0\n",
      "4129              0.00            0          2.32               0\n",
      "     word_freq_conference char_freq_; char_freq_( char_freq_[ char_freq_!\n",
      "455                  0.00           0       0.073       0.000       0.000\n",
      "2246                 0.00           0       0.000       0.000       0.277\n",
      "1935                 0.98           0       0.377       0.000       0.125\n",
      "1384                 0.00           0       0.297       0.059       0.178\n",
      "679                  0.00           0       0.000       0.260       0.991\n",
      "4129                 0.00           0       0.163       0.000       0.490\n",
      "     char_freq_$ char_freq_ capital_run_length_average\n",
      "455         0.00      0.000                      2.250\n",
      "2246        0.00      0.000                      3.000\n",
      "1935        0.00      0.000                      2.925\n",
      "1384        0.00      0.000                      2.446\n",
      "679         0.39      0.032                      3.173\n",
      "4129        0.00      0.000                      2.125\n",
      "     capital_run_length_longest capital_run_length_total label\n",
      "455                          12                      144     1\n",
      "2246                         17                       51     0\n",
      "1935                         27                      158     0\n",
      "1384                         11                      115     1\n",
      "679                          56                     1044     1\n",
      "4129                          7                       34     0\n",
      "\n",
      "     word_freq_make word_freq_address word_freq_all word_freq_3d word_freq_our\n",
      "2961           0.00              0.00          0.00         0.00          0.00\n",
      "2515           0.00              0.00          0.00         0.00          0.00\n",
      "3246           0.00              0.00          0.00         0.00          0.00\n",
      "1117           0.58              0.00          0.00        35.46          0.58\n",
      "2340           0.69              0.00          0.69         0.00          0.00\n",
      "1593           0.77              0.38          0.77         0.00          0.00\n",
      "     word_freq_over word_freq_remove word_freq_internet word_freq_order\n",
      "2961           0.00             0.00               0.00            0.00\n",
      "2515           0.00             0.00               0.00            0.00\n",
      "3246           0.00             0.00               0.00            0.00\n",
      "1117           0.00             0.58               0.58            0.00\n",
      "2340           0.00             0.00               0.00            0.00\n",
      "1593           0.57             0.00               0.57            1.15\n",
      "     word_freq_mail word_freq_receive word_freq_will word_freq_people\n",
      "2961           0.00                 0           0.00             0.00\n",
      "2515           0.00                 0           0.00             0.00\n",
      "3246           0.00                 0           0.00             0.00\n",
      "1117           0.00                 0           0.00             0.00\n",
      "2340           0.69                 0           0.00             0.00\n",
      "1593           1.34                 0           0.38             0.38\n",
      "     word_freq_report word_freq_addresses word_freq_free word_freq_business\n",
      "2961             0.00                0.00           0.00               0.00\n",
      "2515             0.00                0.00           0.00               0.00\n",
      "3246             0.00                0.00           0.00               0.00\n",
      "1117             0.58                0.00           0.58               0.58\n",
      "2340             0.00                0.00           1.38               0.00\n",
      "1593             0.00                1.15           0.19               0.19\n",
      "     word_freq_email word_freq_you word_freq_credit word_freq_your\n",
      "2961            0.00          0.00             0.00           0.00\n",
      "2515            0.00          3.12             0.00           0.00\n",
      "3246            0.00          0.00             0.00           0.00\n",
      "1117            0.58          0.58             0.00           1.74\n",
      "2340            0.00          1.38             0.00           1.38\n",
      "1593            1.92          2.11             1.15           1.15\n",
      "     word_freq_font word_freq_000 word_freq_money word_freq_hp word_freq_hpl\n",
      "2961              0          0.00            0.00         0.00          0.00\n",
      "2515              0          0.00            0.00         0.00          0.00\n",
      "3246              0          0.00            0.00         9.52          4.76\n",
      "1117              0          0.00            1.16         0.00          0.00\n",
      "2340              0          0.00            0.00         0.00          0.00\n",
      "1593              0          1.34            0.77         0.00          0.00\n",
      "     word_freq_george word_freq_650 word_freq_lab word_freq_labs\n",
      "2961             0.00          0.00          0.00           0.00\n",
      "2515             3.12          0.00          0.00           0.00\n",
      "3246             4.76          4.76          4.76           4.76\n",
      "1117             0.00          0.00          0.00           0.00\n",
      "2340             0.00          0.00          0.00           0.00\n",
      "1593             0.00          0.00          0.00           0.00\n",
      "     word_freq_telnet word_freq_857 word_freq_data word_freq_415 word_freq_85\n",
      "2961             0.00          0.00              0          0.00         0.00\n",
      "2515             0.00          0.00              0          0.00         0.00\n",
      "3246             4.76          4.76              0          4.76         4.76\n",
      "1117             0.00          0.00              0          0.00         0.00\n",
      "2340             0.00          0.00              0          0.00         0.00\n",
      "1593             0.00          0.00              0          0.00         0.19\n",
      "     word_freq_technology word_freq_1999 word_freq_parts word_freq_pm\n",
      "2961                 0.00              0               0            0\n",
      "2515                 0.00              0               0            0\n",
      "3246                 4.76              0               0            0\n",
      "1117                 0.00              0               0            0\n",
      "2340                 0.00              0               0            0\n",
      "1593                 0.00              0               0            0\n",
      "     word_freq_direct word_freq_cs word_freq_meeting word_freq_original\n",
      "2961             0.00            0                 0                  0\n",
      "2515             0.00            0                 0                  0\n",
      "3246             4.76            0                 0                  0\n",
      "1117             0.00            0                 0                  0\n",
      "2340             0.00            0                 0                  0\n",
      "1593             0.00            0                 0                  0\n",
      "     word_freq_project word_freq_re word_freq_edu word_freq_table\n",
      "2961                 0            0             0               0\n",
      "2515                 0            0             0               0\n",
      "3246                 0            0             0               0\n",
      "1117                 0            0             0               0\n",
      "2340                 0            0             0               0\n",
      "1593                 0            0             0               0\n",
      "     word_freq_conference char_freq_; char_freq_( char_freq_[ char_freq_!\n",
      "2961                    0       0.000       0.555           0       0.000\n",
      "2515                    0       0.000       0.502           0       0.000\n",
      "3246                    0       0.000       1.257           0       0.000\n",
      "1117                    0       0.000       0.000           0       0.239\n",
      "2340                    0       0.000       0.000           0       2.378\n",
      "1593                    0       0.027       0.027           0       0.438\n",
      "     char_freq_$ char_freq_ capital_run_length_average\n",
      "2961       0.000      0.000                      1.647\n",
      "2515       0.000      0.000                      1.000\n",
      "3246       0.000      0.000                      3.333\n",
      "1117       0.239      0.000                      3.338\n",
      "2340       0.000      0.000                      3.315\n",
      "1593       0.191      0.054                     14.619\n",
      "     capital_run_length_longest capital_run_length_total\n",
      "2961                          4                       28\n",
      "2515                          1                        8\n",
      "3246                         11                       30\n",
      "1117                        123                      207\n",
      "2340                         37                      126\n",
      "1593                        525                      921\n",
      "\n"
     ]
    }
   ],
   "source": [
    "train_data = ro.r[\"data_train\"]\n",
    "test_data = ro.r[\"data_test\"]\n",
    "\n",
    "train_df = pandas2ri.rpy2py(train_data)\n",
    "test_df = pandas2ri.rpy2py(test_data)\n",
    "print(train_data.head())\n",
    "print(test_data.head())\n"
   ]
  },
  {
   "cell_type": "markdown",
   "metadata": {},
   "source": [
    "## 2. ACP"
   ]
  },
  {
   "cell_type": "code",
   "execution_count": 27,
   "metadata": {},
   "outputs": [
    {
     "name": "stdout",
     "output_type": "stream",
     "text": [
      "Pourcentage de variance gardée par les 2 premières composantes principales : 1.00\n"
     ]
    },
    {
     "data": {
      "image/png": "[encoded data removed]",
      "text/plain": [
       "<Figure size 1000x1000 with 1 Axes>"
      ]
     },
     "metadata": {},
     "output_type": "display_data"
    }
   ],
   "source": [
    "import numpy as np\n",
    "import matplotlib.pyplot as plt\n",
    "import matplotlib.patches as mpatches  # Ajout de l'importation des patches\n",
    "\n",
    "# Normalisation des données (centrage des variables)\n",
    "Z = train_df - train_df.mean(axis=0)\n",
    "\n",
    "# Calcul de la matrice de covariance\n",
    "S = np.cov(Z, rowvar=False)\n",
    "\n",
    "# Calcul des valeurs propres et des vecteurs propres\n",
    "ls, vs = np.linalg.eig(S)\n",
    "\n",
    "# Tri des valeurs propres et des vecteurs propres\n",
    "idx = np.argsort(ls)[::-1]\n",
    "ls_tries = ls[idx]\n",
    "vs_tries = vs[:, idx]\n",
    "\n",
    "# Affichage du pourcentage de variance expliquée\n",
    "print(f'Pourcentage de variance gardée par les 2 premières composantes principales : {np.sum(ls_tries[:2]) / np.sum(ls_tries):.2f}')\n",
    "\n",
    "# Transformation des données\n",
    "Z_new = np.dot(Z, vs_tries[:, :2])  # Multiplie Z par les deux premiers vecteurs propres\n",
    "\n",
    "# Échelle des composantes principales (éventuellement ajustée)\n",
    "eigenvalues_sqrt = np.sqrt(ls_tries[:2])  # Racine carrée des valeurs propres\n",
    "components = vs_tries[:, :2] * eigenvalues_sqrt * 1.5  # Projection des composantes principales avec échelle ajustée\n",
    "\n",
    "# Création du graphique\n",
    "fig, ax = plt.subplots(figsize=(10, 10))\n",
    "\n",
    "# Ajout d'un cercle des corrélations\n",
    "circle = plt.Circle((0, 0), 1, color='grey', fill=False)\n",
    "ax.add_artist(circle)\n",
    "\n",
    "# Ajout des points et des flèches\n",
    "for i, component in enumerate(components.T):  # Composantes principales en colonnes\n",
    "    # S'assurer qu'il y a bien 2 valeurs à décompresser\n",
    "    if component.shape[0] == 2:\n",
    "        x, y = component  # Décompresser la colonne en x et y\n",
    "    else:\n",
    "        continue  # Passer à la prochaine itération si la composante n'a pas 2 valeurs\n",
    "    \n",
    "    name = train_df.columns[i]\n",
    "    color = 'yellow'\n",
    "    \n",
    "    # Choix des couleurs en fonction du préfixe du nom de la variable\n",
    "    if name.startswith('char_freq_'):\n",
    "        name = name.replace('char_freq_', '')\n",
    "        color = 'blue'\n",
    "    elif name.startswith('word_freq_'):\n",
    "        name = name.replace('word_freq_', '')\n",
    "        color = 'green'\n",
    "    \n",
    "    # Affichage des variables (points)\n",
    "    ax.scatter(x, y, color=color, marker='x', s=100)  # Points\n",
    "    # Affichage des flèches (quiver)\n",
    "    ax.quiver(0, 0, x, y, angles='xy', scale_units='xy', scale=50, color=color, width=0.005)  # Flèche avec quiver\n",
    "    ax.text(x * 1.1, y * 1.1, name, color='black', ha='center', va='center')\n",
    "\n",
    "# Création des légendes\n",
    "char_freq_patch = mpatches.Patch(color='blue', label='char_freq')\n",
    "word_freq_patch = mpatches.Patch(color='green', label='word_freq')\n",
    "autres_patch = mpatches.Patch(color='yellow', label='autres')\n",
    "\n",
    "# Ajout des légendes au graphique\n",
    "ax.legend(handles=[char_freq_patch, word_freq_patch, autres_patch], loc='upper right')\n",
    "\n",
    "# Configuration des axes et du graphique\n",
    "plt.xlim(-1.5, 1.5)  # Augmentation de l'échelle des axes\n",
    "plt.ylim(-1.5, 1.5)\n",
    "plt.axhline(0, color='black', linestyle='--', linewidth=0.5)\n",
    "plt.axvline(0, color='black', linestyle='--', linewidth=0.5)\n",
    "plt.xlabel('Composante principale 1')\n",
    "plt.ylabel('Composante principale 2')\n",
    "plt.grid(True)\n",
    "plt.title('Cercle des Corrélations')\n",
    "\n",
    "# Sauvegarde et affichage du graphique\n",
    "plt.savefig('cercle_correlation.png')\n",
    "plt.show()\n"
   ]
  },
  {
   "cell_type": "code",
   "execution_count": 39,
   "metadata": {},
   "outputs": [
    {
     "name": "stdout",
     "output_type": "stream",
     "text": [
      "pourcentage de variance gardée : 0.9155706277785468\n"
     ]
    },
    {
     "ename": "ValueError",
     "evalue": "Image size of 1020399x357771 pixels is too large. It must be less than 2^16 in each direction.",
     "output_type": "error",
     "traceback": [
      "\u001b[0;31m---------------------------------------------------------------------------\u001b[0m",
      "\u001b[0;31mValueError\u001b[0m                                Traceback (most recent call last)",
      "File \u001b[0;32m~/Documents/Enseirb/Analyse_de_données/Projet_Analyse/.venv/lib/python3.9/site-packages/IPython/core/formatters.py:340\u001b[0m, in \u001b[0;36mBaseFormatter.__call__\u001b[0;34m(self, obj)\u001b[0m\n\u001b[1;32m    338\u001b[0m     \u001b[38;5;28;01mpass\u001b[39;00m\n\u001b[1;32m    339\u001b[0m \u001b[38;5;28;01melse\u001b[39;00m:\n\u001b[0;32m--> 340\u001b[0m     \u001b[38;5;28;01mreturn\u001b[39;00m \u001b[43mprinter\u001b[49m\u001b[43m(\u001b[49m\u001b[43mobj\u001b[49m\u001b[43m)\u001b[49m\n\u001b[1;32m    341\u001b[0m \u001b[38;5;66;03m# Finally look for special method names\u001b[39;00m\n\u001b[1;32m    342\u001b[0m method \u001b[38;5;241m=\u001b[39m get_real_method(obj, \u001b[38;5;28mself\u001b[39m\u001b[38;5;241m.\u001b[39mprint_method)\n",
      "File \u001b[0;32m~/Documents/Enseirb/Analyse_de_données/Projet_Analyse/.venv/lib/python3.9/site-packages/IPython/core/pylabtools.py:152\u001b[0m, in \u001b[0;36mprint_figure\u001b[0;34m(fig, fmt, bbox_inches, base64, **kwargs)\u001b[0m\n\u001b[1;32m    149\u001b[0m     \u001b[38;5;28;01mfrom\u001b[39;00m \u001b[38;5;21;01mmatplotlib\u001b[39;00m\u001b[38;5;21;01m.\u001b[39;00m\u001b[38;5;21;01mbackend_bases\u001b[39;00m \u001b[38;5;28;01mimport\u001b[39;00m FigureCanvasBase\n\u001b[1;32m    150\u001b[0m     FigureCanvasBase(fig)\n\u001b[0;32m--> 152\u001b[0m \u001b[43mfig\u001b[49m\u001b[38;5;241;43m.\u001b[39;49m\u001b[43mcanvas\u001b[49m\u001b[38;5;241;43m.\u001b[39;49m\u001b[43mprint_figure\u001b[49m\u001b[43m(\u001b[49m\u001b[43mbytes_io\u001b[49m\u001b[43m,\u001b[49m\u001b[43m \u001b[49m\u001b[38;5;241;43m*\u001b[39;49m\u001b[38;5;241;43m*\u001b[39;49m\u001b[43mkw\u001b[49m\u001b[43m)\u001b[49m\n\u001b[1;32m    153\u001b[0m data \u001b[38;5;241m=\u001b[39m bytes_io\u001b[38;5;241m.\u001b[39mgetvalue()\n\u001b[1;32m    154\u001b[0m \u001b[38;5;28;01mif\u001b[39;00m fmt \u001b[38;5;241m==\u001b[39m \u001b[38;5;124m'\u001b[39m\u001b[38;5;124msvg\u001b[39m\u001b[38;5;124m'\u001b[39m:\n",
      "File \u001b[0;32m~/Documents/Enseirb/Analyse_de_données/Projet_Analyse/.venv/lib/python3.9/site-packages/matplotlib/backend_bases.py:2204\u001b[0m, in \u001b[0;36mFigureCanvasBase.print_figure\u001b[0;34m(self, filename, dpi, facecolor, edgecolor, orientation, format, bbox_inches, pad_inches, bbox_extra_artists, backend, **kwargs)\u001b[0m\n\u001b[1;32m   2200\u001b[0m \u001b[38;5;28;01mtry\u001b[39;00m:\n\u001b[1;32m   2201\u001b[0m     \u001b[38;5;66;03m# _get_renderer may change the figure dpi (as vector formats\u001b[39;00m\n\u001b[1;32m   2202\u001b[0m     \u001b[38;5;66;03m# force the figure dpi to 72), so we need to set it again here.\u001b[39;00m\n\u001b[1;32m   2203\u001b[0m     \u001b[38;5;28;01mwith\u001b[39;00m cbook\u001b[38;5;241m.\u001b[39m_setattr_cm(\u001b[38;5;28mself\u001b[39m\u001b[38;5;241m.\u001b[39mfigure, dpi\u001b[38;5;241m=\u001b[39mdpi):\n\u001b[0;32m-> 2204\u001b[0m         result \u001b[38;5;241m=\u001b[39m \u001b[43mprint_method\u001b[49m\u001b[43m(\u001b[49m\n\u001b[1;32m   2205\u001b[0m \u001b[43m            \u001b[49m\u001b[43mfilename\u001b[49m\u001b[43m,\u001b[49m\n\u001b[1;32m   2206\u001b[0m \u001b[43m            \u001b[49m\u001b[43mfacecolor\u001b[49m\u001b[38;5;241;43m=\u001b[39;49m\u001b[43mfacecolor\u001b[49m\u001b[43m,\u001b[49m\n\u001b[1;32m   2207\u001b[0m \u001b[43m            \u001b[49m\u001b[43medgecolor\u001b[49m\u001b[38;5;241;43m=\u001b[39;49m\u001b[43medgecolor\u001b[49m\u001b[43m,\u001b[49m\n\u001b[1;32m   2208\u001b[0m \u001b[43m            \u001b[49m\u001b[43morientation\u001b[49m\u001b[38;5;241;43m=\u001b[39;49m\u001b[43morientation\u001b[49m\u001b[43m,\u001b[49m\n\u001b[1;32m   2209\u001b[0m \u001b[43m            \u001b[49m\u001b[43mbbox_inches_restore\u001b[49m\u001b[38;5;241;43m=\u001b[39;49m\u001b[43m_bbox_inches_restore\u001b[49m\u001b[43m,\u001b[49m\n\u001b[1;32m   2210\u001b[0m \u001b[43m            \u001b[49m\u001b[38;5;241;43m*\u001b[39;49m\u001b[38;5;241;43m*\u001b[39;49m\u001b[43mkwargs\u001b[49m\u001b[43m)\u001b[49m\n\u001b[1;32m   2211\u001b[0m \u001b[38;5;28;01mfinally\u001b[39;00m:\n\u001b[1;32m   2212\u001b[0m     \u001b[38;5;28;01mif\u001b[39;00m bbox_inches \u001b[38;5;129;01mand\u001b[39;00m restore_bbox:\n",
      "File \u001b[0;32m~/Documents/Enseirb/Analyse_de_données/Projet_Analyse/.venv/lib/python3.9/site-packages/matplotlib/backend_bases.py:2054\u001b[0m, in \u001b[0;36mFigureCanvasBase._switch_canvas_and_return_print_method.<locals>.<lambda>\u001b[0;34m(*args, **kwargs)\u001b[0m\n\u001b[1;32m   2050\u001b[0m     optional_kws \u001b[38;5;241m=\u001b[39m {  \u001b[38;5;66;03m# Passed by print_figure for other renderers.\u001b[39;00m\n\u001b[1;32m   2051\u001b[0m         \u001b[38;5;124m\"\u001b[39m\u001b[38;5;124mdpi\u001b[39m\u001b[38;5;124m\"\u001b[39m, \u001b[38;5;124m\"\u001b[39m\u001b[38;5;124mfacecolor\u001b[39m\u001b[38;5;124m\"\u001b[39m, \u001b[38;5;124m\"\u001b[39m\u001b[38;5;124medgecolor\u001b[39m\u001b[38;5;124m\"\u001b[39m, \u001b[38;5;124m\"\u001b[39m\u001b[38;5;124morientation\u001b[39m\u001b[38;5;124m\"\u001b[39m,\n\u001b[1;32m   2052\u001b[0m         \u001b[38;5;124m\"\u001b[39m\u001b[38;5;124mbbox_inches_restore\u001b[39m\u001b[38;5;124m\"\u001b[39m}\n\u001b[1;32m   2053\u001b[0m     skip \u001b[38;5;241m=\u001b[39m optional_kws \u001b[38;5;241m-\u001b[39m {\u001b[38;5;241m*\u001b[39minspect\u001b[38;5;241m.\u001b[39msignature(meth)\u001b[38;5;241m.\u001b[39mparameters}\n\u001b[0;32m-> 2054\u001b[0m     print_method \u001b[38;5;241m=\u001b[39m functools\u001b[38;5;241m.\u001b[39mwraps(meth)(\u001b[38;5;28;01mlambda\u001b[39;00m \u001b[38;5;241m*\u001b[39margs, \u001b[38;5;241m*\u001b[39m\u001b[38;5;241m*\u001b[39mkwargs: \u001b[43mmeth\u001b[49m\u001b[43m(\u001b[49m\n\u001b[1;32m   2055\u001b[0m \u001b[43m        \u001b[49m\u001b[38;5;241;43m*\u001b[39;49m\u001b[43margs\u001b[49m\u001b[43m,\u001b[49m\u001b[43m \u001b[49m\u001b[38;5;241;43m*\u001b[39;49m\u001b[38;5;241;43m*\u001b[39;49m\u001b[43m{\u001b[49m\u001b[43mk\u001b[49m\u001b[43m:\u001b[49m\u001b[43m \u001b[49m\u001b[43mv\u001b[49m\u001b[43m \u001b[49m\u001b[38;5;28;43;01mfor\u001b[39;49;00m\u001b[43m \u001b[49m\u001b[43mk\u001b[49m\u001b[43m,\u001b[49m\u001b[43m \u001b[49m\u001b[43mv\u001b[49m\u001b[43m \u001b[49m\u001b[38;5;129;43;01min\u001b[39;49;00m\u001b[43m \u001b[49m\u001b[43mkwargs\u001b[49m\u001b[38;5;241;43m.\u001b[39;49m\u001b[43mitems\u001b[49m\u001b[43m(\u001b[49m\u001b[43m)\u001b[49m\u001b[43m \u001b[49m\u001b[38;5;28;43;01mif\u001b[39;49;00m\u001b[43m \u001b[49m\u001b[43mk\u001b[49m\u001b[43m \u001b[49m\u001b[38;5;129;43;01mnot\u001b[39;49;00m\u001b[43m \u001b[49m\u001b[38;5;129;43;01min\u001b[39;49;00m\u001b[43m \u001b[49m\u001b[43mskip\u001b[49m\u001b[43m}\u001b[49m\u001b[43m)\u001b[49m)\n\u001b[1;32m   2056\u001b[0m \u001b[38;5;28;01melse\u001b[39;00m:  \u001b[38;5;66;03m# Let third-parties do as they see fit.\u001b[39;00m\n\u001b[1;32m   2057\u001b[0m     print_method \u001b[38;5;241m=\u001b[39m meth\n",
      "File \u001b[0;32m~/Documents/Enseirb/Analyse_de_données/Projet_Analyse/.venv/lib/python3.9/site-packages/matplotlib/backends/backend_agg.py:496\u001b[0m, in \u001b[0;36mFigureCanvasAgg.print_png\u001b[0;34m(self, filename_or_obj, metadata, pil_kwargs)\u001b[0m\n\u001b[1;32m    449\u001b[0m \u001b[38;5;28;01mdef\u001b[39;00m \u001b[38;5;21mprint_png\u001b[39m(\u001b[38;5;28mself\u001b[39m, filename_or_obj, \u001b[38;5;241m*\u001b[39m, metadata\u001b[38;5;241m=\u001b[39m\u001b[38;5;28;01mNone\u001b[39;00m, pil_kwargs\u001b[38;5;241m=\u001b[39m\u001b[38;5;28;01mNone\u001b[39;00m):\n\u001b[1;32m    450\u001b[0m \u001b[38;5;250m    \u001b[39m\u001b[38;5;124;03m\"\"\"\u001b[39;00m\n\u001b[1;32m    451\u001b[0m \u001b[38;5;124;03m    Write the figure to a PNG file.\u001b[39;00m\n\u001b[1;32m    452\u001b[0m \n\u001b[0;32m   (...)\u001b[0m\n\u001b[1;32m    494\u001b[0m \u001b[38;5;124;03m        *metadata*, including the default 'Software' key.\u001b[39;00m\n\u001b[1;32m    495\u001b[0m \u001b[38;5;124;03m    \"\"\"\u001b[39;00m\n\u001b[0;32m--> 496\u001b[0m     \u001b[38;5;28;43mself\u001b[39;49m\u001b[38;5;241;43m.\u001b[39;49m\u001b[43m_print_pil\u001b[49m\u001b[43m(\u001b[49m\u001b[43mfilename_or_obj\u001b[49m\u001b[43m,\u001b[49m\u001b[43m \u001b[49m\u001b[38;5;124;43m\"\u001b[39;49m\u001b[38;5;124;43mpng\u001b[39;49m\u001b[38;5;124;43m\"\u001b[39;49m\u001b[43m,\u001b[49m\u001b[43m \u001b[49m\u001b[43mpil_kwargs\u001b[49m\u001b[43m,\u001b[49m\u001b[43m \u001b[49m\u001b[43mmetadata\u001b[49m\u001b[43m)\u001b[49m\n",
      "File \u001b[0;32m~/Documents/Enseirb/Analyse_de_données/Projet_Analyse/.venv/lib/python3.9/site-packages/matplotlib/backends/backend_agg.py:444\u001b[0m, in \u001b[0;36mFigureCanvasAgg._print_pil\u001b[0;34m(self, filename_or_obj, fmt, pil_kwargs, metadata)\u001b[0m\n\u001b[1;32m    439\u001b[0m \u001b[38;5;28;01mdef\u001b[39;00m \u001b[38;5;21m_print_pil\u001b[39m(\u001b[38;5;28mself\u001b[39m, filename_or_obj, fmt, pil_kwargs, metadata\u001b[38;5;241m=\u001b[39m\u001b[38;5;28;01mNone\u001b[39;00m):\n\u001b[1;32m    440\u001b[0m \u001b[38;5;250m    \u001b[39m\u001b[38;5;124;03m\"\"\"\u001b[39;00m\n\u001b[1;32m    441\u001b[0m \u001b[38;5;124;03m    Draw the canvas, then save it using `.image.imsave` (to which\u001b[39;00m\n\u001b[1;32m    442\u001b[0m \u001b[38;5;124;03m    *pil_kwargs* and *metadata* are forwarded).\u001b[39;00m\n\u001b[1;32m    443\u001b[0m \u001b[38;5;124;03m    \"\"\"\u001b[39;00m\n\u001b[0;32m--> 444\u001b[0m     \u001b[43mFigureCanvasAgg\u001b[49m\u001b[38;5;241;43m.\u001b[39;49m\u001b[43mdraw\u001b[49m\u001b[43m(\u001b[49m\u001b[38;5;28;43mself\u001b[39;49m\u001b[43m)\u001b[49m\n\u001b[1;32m    445\u001b[0m     mpl\u001b[38;5;241m.\u001b[39mimage\u001b[38;5;241m.\u001b[39mimsave(\n\u001b[1;32m    446\u001b[0m         filename_or_obj, \u001b[38;5;28mself\u001b[39m\u001b[38;5;241m.\u001b[39mbuffer_rgba(), \u001b[38;5;28mformat\u001b[39m\u001b[38;5;241m=\u001b[39mfmt, origin\u001b[38;5;241m=\u001b[39m\u001b[38;5;124m\"\u001b[39m\u001b[38;5;124mupper\u001b[39m\u001b[38;5;124m\"\u001b[39m,\n\u001b[1;32m    447\u001b[0m         dpi\u001b[38;5;241m=\u001b[39m\u001b[38;5;28mself\u001b[39m\u001b[38;5;241m.\u001b[39mfigure\u001b[38;5;241m.\u001b[39mdpi, metadata\u001b[38;5;241m=\u001b[39mmetadata, pil_kwargs\u001b[38;5;241m=\u001b[39mpil_kwargs)\n",
      "File \u001b[0;32m~/Documents/Enseirb/Analyse_de_données/Projet_Analyse/.venv/lib/python3.9/site-packages/matplotlib/backends/backend_agg.py:382\u001b[0m, in \u001b[0;36mFigureCanvasAgg.draw\u001b[0;34m(self)\u001b[0m\n\u001b[1;32m    380\u001b[0m \u001b[38;5;28;01mdef\u001b[39;00m \u001b[38;5;21mdraw\u001b[39m(\u001b[38;5;28mself\u001b[39m):\n\u001b[1;32m    381\u001b[0m     \u001b[38;5;66;03m# docstring inherited\u001b[39;00m\n\u001b[0;32m--> 382\u001b[0m     \u001b[38;5;28mself\u001b[39m\u001b[38;5;241m.\u001b[39mrenderer \u001b[38;5;241m=\u001b[39m \u001b[38;5;28;43mself\u001b[39;49m\u001b[38;5;241;43m.\u001b[39;49m\u001b[43mget_renderer\u001b[49m\u001b[43m(\u001b[49m\u001b[43m)\u001b[49m\n\u001b[1;32m    383\u001b[0m     \u001b[38;5;28mself\u001b[39m\u001b[38;5;241m.\u001b[39mrenderer\u001b[38;5;241m.\u001b[39mclear()\n\u001b[1;32m    384\u001b[0m     \u001b[38;5;66;03m# Acquire a lock on the shared font cache.\u001b[39;00m\n",
      "File \u001b[0;32m~/Documents/Enseirb/Analyse_de_données/Projet_Analyse/.venv/lib/python3.9/site-packages/matplotlib/backends/backend_agg.py:397\u001b[0m, in \u001b[0;36mFigureCanvasAgg.get_renderer\u001b[0;34m(self)\u001b[0m\n\u001b[1;32m    395\u001b[0m reuse_renderer \u001b[38;5;241m=\u001b[39m (\u001b[38;5;28mself\u001b[39m\u001b[38;5;241m.\u001b[39m_lastKey \u001b[38;5;241m==\u001b[39m key)\n\u001b[1;32m    396\u001b[0m \u001b[38;5;28;01mif\u001b[39;00m \u001b[38;5;129;01mnot\u001b[39;00m reuse_renderer:\n\u001b[0;32m--> 397\u001b[0m     \u001b[38;5;28mself\u001b[39m\u001b[38;5;241m.\u001b[39mrenderer \u001b[38;5;241m=\u001b[39m \u001b[43mRendererAgg\u001b[49m\u001b[43m(\u001b[49m\u001b[43mw\u001b[49m\u001b[43m,\u001b[49m\u001b[43m \u001b[49m\u001b[43mh\u001b[49m\u001b[43m,\u001b[49m\u001b[43m \u001b[49m\u001b[38;5;28;43mself\u001b[39;49m\u001b[38;5;241;43m.\u001b[39;49m\u001b[43mfigure\u001b[49m\u001b[38;5;241;43m.\u001b[39;49m\u001b[43mdpi\u001b[49m\u001b[43m)\u001b[49m\n\u001b[1;32m    398\u001b[0m     \u001b[38;5;28mself\u001b[39m\u001b[38;5;241m.\u001b[39m_lastKey \u001b[38;5;241m=\u001b[39m key\n\u001b[1;32m    399\u001b[0m \u001b[38;5;28;01mreturn\u001b[39;00m \u001b[38;5;28mself\u001b[39m\u001b[38;5;241m.\u001b[39mrenderer\n",
      "File \u001b[0;32m~/Documents/Enseirb/Analyse_de_données/Projet_Analyse/.venv/lib/python3.9/site-packages/matplotlib/backends/backend_agg.py:70\u001b[0m, in \u001b[0;36mRendererAgg.__init__\u001b[0;34m(self, width, height, dpi)\u001b[0m\n\u001b[1;32m     68\u001b[0m \u001b[38;5;28mself\u001b[39m\u001b[38;5;241m.\u001b[39mwidth \u001b[38;5;241m=\u001b[39m width\n\u001b[1;32m     69\u001b[0m \u001b[38;5;28mself\u001b[39m\u001b[38;5;241m.\u001b[39mheight \u001b[38;5;241m=\u001b[39m height\n\u001b[0;32m---> 70\u001b[0m \u001b[38;5;28mself\u001b[39m\u001b[38;5;241m.\u001b[39m_renderer \u001b[38;5;241m=\u001b[39m \u001b[43m_RendererAgg\u001b[49m\u001b[43m(\u001b[49m\u001b[38;5;28;43mint\u001b[39;49m\u001b[43m(\u001b[49m\u001b[43mwidth\u001b[49m\u001b[43m)\u001b[49m\u001b[43m,\u001b[49m\u001b[43m \u001b[49m\u001b[38;5;28;43mint\u001b[39;49m\u001b[43m(\u001b[49m\u001b[43mheight\u001b[49m\u001b[43m)\u001b[49m\u001b[43m,\u001b[49m\u001b[43m \u001b[49m\u001b[43mdpi\u001b[49m\u001b[43m)\u001b[49m\n\u001b[1;32m     71\u001b[0m \u001b[38;5;28mself\u001b[39m\u001b[38;5;241m.\u001b[39m_filter_renderers \u001b[38;5;241m=\u001b[39m []\n\u001b[1;32m     73\u001b[0m \u001b[38;5;28mself\u001b[39m\u001b[38;5;241m.\u001b[39m_update_methods()\n",
      "\u001b[0;31mValueError\u001b[0m: Image size of 1020399x357771 pixels is too large. It must be less than 2^16 in each direction."
     ]
    },
    {
     "data": {
      "text/plain": [
       "<Figure size 600x600 with 1 Axes>"
      ]
     },
     "metadata": {},
     "output_type": "display_data"
    }
   ],
   "source": [
    "Z = train_df - np.mean(train_df)\n",
    "S = np.cov(Z, rowvar=False)\n",
    "ls, vs = np.linalg.eig(S)\n",
    "idx = np.argsort(ls)[::-1]\n",
    "ls_tries = ls[idx]\n",
    "vs_tries = vs[:, idx]\n",
    "print(f'pourcentage de variance gardée : {ls_tries[0]/np.sum(ls_tries)}')\n",
    "Z_new = np.dot(vs_tries[:, :2].T, Z.T) \n",
    "\n",
    "eigenvalues_sqrt = np.sqrt(ls_tries[:2])\n",
    "components = vs_tries[:, :2] * eigenvalues_sqrt *6.5\n",
    "\n",
    "fig, ax = plt.subplots(figsize=(6, 6))\n",
    "circle = plt.Circle((0, 0), 1, color='grey', fill=False)\n",
    "ax.add_artist(circle)\n",
    "for i,(x, y) in enumerate(components):\n",
    "    name = train_df.columns[i]\n",
    "    color = 'yellow'\n",
    "    if name.startswith('char_freq_'):\n",
    "        name = name.replace('char_freq_', '')\n",
    "        color = 'blue'\n",
    "    elif name.startswith('word_freq_'):\n",
    "        name = name.replace('word_freq_', '')\n",
    "        color = 'green'\n",
    "    ax.scatter(x, y, color=color,marker='x')\n",
    "    ax.arrow(0, 0, x, y, head_width=0.01, head_length=0.005, fc=color, ec=color)\n",
    "    plt.text(x * 1.1, y * 1.1, name, color='black', ha='center', va='center')\n",
    "\n",
    "char_freq_patch = mpatches.Patch(color='blue', label='char_freq')\n",
    "word_freq_patch = mpatches.Patch(color='green', label='word_freq')\n",
    "autres_patch = mpatches.Patch(color='yellow', label='autres')\n",
    "ax.legend(handles=[char_freq_patch, word_freq_patch, autres_patch], loc='upper right')\n",
    "plt.xlim(-1.1, 1.1)\n",
    "plt.ylim(-1.1, 1.1)\n",
    "plt.axhline(0, color='black', linestyle='--', linewidth=0.5)\n",
    "plt.axvline(0, color='black', linestyle='--', linewidth=0.5)\n",
    "plt.xlabel('Composante principale 1')\n",
    "plt.ylabel('Composante principale 2')\n",
    "plt.grid()\n",
    "plt.title('Cercle des corrélations')\n",
    "plt.savefig('cercle_correlation.png')"
   ]
  },
  {
   "cell_type": "markdown",
   "metadata": {},
   "source": [
    "## 3. Entraînement des modèles"
   ]
  },
  {
   "cell_type": "code",
   "execution_count": 17,
   "metadata": {},
   "outputs": [
    {
     "ename": "AttributeError",
     "evalue": "'DataFrame' object has no attribute 'drop'",
     "output_type": "error",
     "traceback": [
      "\u001b[0;31m---------------------------------------------------------------------------\u001b[0m",
      "\u001b[0;31mAttributeError\u001b[0m                            Traceback (most recent call last)",
      "Cell \u001b[0;32mIn[17], line 2\u001b[0m\n\u001b[1;32m      1\u001b[0m \u001b[38;5;66;03m# Séparation des caractéristiques et des étiquettes\u001b[39;00m\n\u001b[0;32m----> 2\u001b[0m X_train \u001b[38;5;241m=\u001b[39m \u001b[43mtrain_data\u001b[49m\u001b[38;5;241;43m.\u001b[39;49m\u001b[43mdrop\u001b[49m(\u001b[38;5;124m'\u001b[39m\u001b[38;5;124mlabel\u001b[39m\u001b[38;5;124m'\u001b[39m, axis\u001b[38;5;241m=\u001b[39m\u001b[38;5;241m1\u001b[39m)\n\u001b[1;32m      3\u001b[0m y_train \u001b[38;5;241m=\u001b[39m train_data[\u001b[38;5;124m'\u001b[39m\u001b[38;5;124mlabel\u001b[39m\u001b[38;5;124m'\u001b[39m]\n\u001b[1;32m      4\u001b[0m X_test \u001b[38;5;241m=\u001b[39m test_data\u001b[38;5;241m.\u001b[39mdrop(\u001b[38;5;124m'\u001b[39m\u001b[38;5;124mlabel\u001b[39m\u001b[38;5;124m'\u001b[39m, axis\u001b[38;5;241m=\u001b[39m\u001b[38;5;241m1\u001b[39m)\n",
      "\u001b[0;31mAttributeError\u001b[0m: 'DataFrame' object has no attribute 'drop'"
     ]
    }
   ],
   "source": [
    "# Séparation des caractéristiques et des étiquettes\n",
    "X_train = train_data.drop('label', axis=1)\n",
    "y_train = train_data['label']\n",
    "X_test = test_data.drop('label', axis=1)\n",
    "y_test = test_data['label']\n"
   ]
  },
  {
   "cell_type": "markdown",
   "metadata": {},
   "source": [
    "### 3.1 Naive Bayes"
   ]
  },
  {
   "cell_type": "code",
   "execution_count": null,
   "metadata": {},
   "outputs": [
    {
     "ename": "NameError",
     "evalue": "name 'X_train' is not defined",
     "output_type": "error",
     "traceback": [
      "\u001b[0;31m---------------------------------------------------------------------------\u001b[0m",
      "\u001b[0;31mNameError\u001b[0m                                 Traceback (most recent call last)",
      "Cell \u001b[0;32mIn[38], line 5\u001b[0m\n\u001b[1;32m      3\u001b[0m \u001b[38;5;66;03m# Instancier et entraîner le classificateur Naive Bayes\u001b[39;00m\n\u001b[1;32m      4\u001b[0m nb_classifier \u001b[38;5;241m=\u001b[39m NaiveBayes()\n\u001b[0;32m----> 5\u001b[0m nb_classifier\u001b[38;5;241m.\u001b[39mfit(\u001b[43mX_train\u001b[49m, y_train)\n\u001b[1;32m      7\u001b[0m \u001b[38;5;66;03m# Prédire les étiquettes sur l'ensemble de test\u001b[39;00m\n\u001b[1;32m      8\u001b[0m nb_predictions \u001b[38;5;241m=\u001b[39m nb_classifier\u001b[38;5;241m.\u001b[39mpredict(X_test)\n",
      "\u001b[0;31mNameError\u001b[0m: name 'X_train' is not defined"
     ]
    }
   ],
   "source": [
    "from Naive_Bayes import NaiveBayes\n",
    "\n",
    "# Instancier et entraîner le classificateur Naive Bayes\n",
    "nb_classifier = NaiveBayes()\n",
    "nb_classifier.fit(X_train, y_train)\n",
    "\n",
    "# Prédire les étiquettes sur l'ensemble de test\n",
    "nb_predictions = nb_classifier.predict(X_test)\n",
    "\n",
    "# Calculer l'exactitude\n",
    "nb_accuracy = nb_classifier.accuracy(y_test, nb_predictions)\n",
    "print(f\"L'exactitude du modèle est de {nb_accuracy * 100:.2f}%\")"
   ]
  },
  {
   "cell_type": "markdown",
   "metadata": {},
   "source": [
    "### 3.2 Régression logistique"
   ]
  },
  {
   "cell_type": "code",
   "execution_count": null,
   "metadata": {},
   "outputs": [],
   "source": [
    "from LogisticRegression import LogisticRegression\n",
    "\n",
    "# Instancier et entraîner le classificateur de régression logistique\n",
    "lr_classifier = LogisticRegression()\n",
    "lr_classifier.fit(X_train.values, y_train.values)\n",
    "\n",
    "# Prédire les étiquettes sur l'ensemble de test\n",
    "lr_predictions = lr_classifier.predict(X_test.values)\n",
    "\n",
    "# Calculer l'exactitude\n",
    "lr_accuracy = lr_classifier.accuracy(y_test.values, lr_predictions)\n",
    "print(f\"L'exactitude du modèle est de {lr_accuracy * 100:.2f}%\")"
   ]
  }
 ],
 "metadata": {
  "kernelspec": {
   "display_name": "Python 3",
   "language": "python",
   "name": "python3"
  },
  "language_info": {
   "codemirror_mode": {
    "name": "ipython",
    "version": 3
   },
   "file_extension": ".py",
   "mimetype": "text/x-python",
   "name": "python",
   "nbconvert_exporter": "python",
   "pygments_lexer": "ipython3",
   "version": "3.10.12"
  }
 },
 "nbformat": 4,
 "nbformat_minor": 2
}
